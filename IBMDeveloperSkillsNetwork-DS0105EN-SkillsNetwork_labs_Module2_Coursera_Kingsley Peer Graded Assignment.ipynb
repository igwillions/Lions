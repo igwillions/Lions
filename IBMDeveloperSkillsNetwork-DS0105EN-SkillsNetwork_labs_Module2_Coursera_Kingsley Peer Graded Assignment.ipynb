{
  "metadata": {
    "language_info": {
      "codemirror_mode": {
        "name": "python",
        "version": 3
      },
      "file_extension": ".py",
      "mimetype": "text/x-python",
      "name": "python",
      "nbconvert_exporter": "python",
      "pygments_lexer": "ipython3",
      "version": "3.8"
    },
    "kernelspec": {
      "name": "python",
      "display_name": "Pyolite",
      "language": "python"
    }
  },
  "nbformat_minor": 4,
  "nbformat": 4,
  "cells": [
    {
      "cell_type": "markdown",
      "source": "# My Jupyter Notebook on IBM Watson Studio",
      "metadata": {}
    },
    {
      "cell_type": "markdown",
      "source": "<b>Igwilo Kingsley<b/>",
      "metadata": {}
    },
    {
      "cell_type": "markdown",
      "source": "Data Scientist",
      "metadata": {}
    },
    {
      "cell_type": "markdown",
      "source": "<i>I am interested in Data Science because I want to be able to explore the depths of data and turn numbers to solutions.<i/>",
      "metadata": {}
    },
    {
      "cell_type": "markdown",
      "source": "### This code is to shows a multiplication outcome.",
      "metadata": {}
    },
    {
      "cell_type": "code",
      "source": "50 * 50",
      "metadata": {
        "trusted": true
      },
      "execution_count": 12,
      "outputs": [
        {
          "execution_count": 12,
          "output_type": "execute_result",
          "data": {
            "text/plain": "2500"
          },
          "metadata": {}
        }
      ]
    },
    {
      "cell_type": "markdown",
      "source": "* Monday\n* Tuesday\n* Wednesday\n* Thursday\n* Friday\n\n1. A\n2. B\n3. C\n4. D\n5. E\n\n[Click here to visit Coursera](https://www.coursera.org)",
      "metadata": {}
    },
    {
      "cell_type": "code",
      "source": "",
      "metadata": {},
      "execution_count": null,
      "outputs": []
    }
  ]
}